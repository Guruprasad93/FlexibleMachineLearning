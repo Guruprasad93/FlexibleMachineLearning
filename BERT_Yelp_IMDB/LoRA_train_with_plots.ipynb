{
 "cells": [
  {
   "cell_type": "code",
   "execution_count": null,
   "metadata": {},
   "outputs": [
    {
     "name": "stderr",
     "output_type": "stream",
     "text": [
      "/home/paperspace/.pyenv/versions/3.10.6/envs/research/lib/python3.10/site-packages/tqdm/auto.py:21: TqdmWarning: IProgress not found. Please update jupyter and ipywidgets. See https://ipywidgets.readthedocs.io/en/stable/user_install.html\n",
      "  from .autonotebook import tqdm as notebook_tqdm\n"
     ]
    },
    {
     "name": "stdout",
     "output_type": "stream",
     "text": [
      "[2024-04-02 04:47:28,299] [INFO] [real_accelerator.py:158:get_accelerator] Setting ds_accelerator to cuda (auto detect)\n"
     ]
    }
   ],
   "source": [
    "from transformers import TrainingArguments, Trainer\n",
    "import torch\n",
    "from datasets import load_dataset\n",
    "from transformers import AutoTokenizer\n",
    "\n",
    "from transformers import AutoModelForSequenceClassification\n",
    "import numpy as np\n",
    "import evaluate"
   ]
  },
  {
   "cell_type": "code",
   "execution_count": null,
   "metadata": {},
   "outputs": [
    {
     "data": {
      "text/plain": [
       "{0, 1, 2, 3, 4}"
      ]
     },
     "metadata": {},
     "output_type": "display_data"
    }
   ],
   "source": [
    "yelp_dataset = load_dataset(\"yelp_review_full\")\n",
    "bert_tokenizer = AutoTokenizer.from_pretrained(\"google-bert/bert-base-uncased\")\n",
    "\n",
    "def tokenize_function(examples):\n",
    "    return bert_tokenizer(examples[\"text\"], padding=\"max_length\", truncation=True)\n",
    "\n",
    "yelp_tokenized_datasets = yelp_dataset.map(tokenize_function, batched=True)\n",
    "yelp_small_train_dataset = yelp_tokenized_datasets[\"train\"].shuffle(seed=42).select(range(10000))\n",
    "yelp_small_eval_dataset = yelp_tokenized_datasets[\"test\"].shuffle(seed=42).select(range(1000))\n",
    "\n",
    "set(yelp_tokenized_datasets[\"test\"]['label'])"
   ]
  },
  {
   "cell_type": "code",
   "execution_count": null,
   "metadata": {},
   "outputs": [],
   "source": [
    "# yelp_model = AutoModelForSequenceClassification.from_pretrained(\"google-bert/bert-base-uncased\", num_labels=7)\n",
    "yelp_training_args = TrainingArguments(output_dir=\"test_trainer\", per_device_train_batch_size=64)\n"
   ]
  },
  {
   "cell_type": "code",
   "execution_count": null,
   "metadata": {},
   "outputs": [],
   "source": [
    "metric = evaluate.load(\"accuracy\")\n",
    "def compute_metrics(eval_pred):\n",
    "    logits, labels = eval_pred\n",
    "    predictions = np.argmax(logits, axis=-1)\n",
    "    return metric.compute(predictions=predictions, references=labels)"
   ]
  },
  {
   "cell_type": "code",
   "execution_count": null,
   "metadata": {},
   "outputs": [],
   "source": [
    "# yelp_model_path = \"test_trainer/yelp_reviews\"\n",
    "# yelp_model_load = AutoModelForSequenceClassification.from_pretrained(yelp_model_path, num_labels=7, ignore_mismatched_sizes=True)\n",
    "\n",
    "yelp_small_eval_dataset = yelp_tokenized_datasets[\"test\"].shuffle(seed=42).select(range(1000))\n",
    "# print(yelp_trainer.evaluate(eval_dataset=yelp_small_eval_dataset))"
   ]
  },
  {
   "cell_type": "code",
   "execution_count": null,
   "metadata": {},
   "outputs": [
    {
     "data": {
      "text/plain": [
       "{5, 6}"
      ]
     },
     "metadata": {},
     "output_type": "display_data"
    }
   ],
   "source": [
    "from peft import LoraConfig, PeftModel, get_peft_model, prepare_model_for_int8_training\n",
    "\n",
    "# Load the IMDB dataset\n",
    "imdb_dataset = load_dataset(\"imdb\")\n",
    "\n",
    "# Preprocess the IMDB dataset\n",
    "def tokenize_function(examples):\n",
    "    tokenized = bert_tokenizer(examples['text'], truncation=True, padding=\"max_length\")\n",
    "    tokenized['label_2'] = [label+5 for label in examples['label']]\n",
    "    return tokenized\n",
    "\n",
    "tokenized_imdb_dataset = imdb_dataset.map(tokenize_function, batched=True,  remove_columns=[\"text\", \"label\"])\n",
    "tokenized_imdb_dataset = tokenized_imdb_dataset.rename_column(\"label_2\", \"label\")\n",
    "\n",
    "imdb_small_train_dataset = tokenized_imdb_dataset[\"train\"].shuffle(seed=42).select(range(10000))\n",
    "imdb_small_eval_dataset = tokenized_imdb_dataset[\"test\"].shuffle(seed=42).select(range(1000))\n",
    "\n",
    "set(tokenized_imdb_dataset[\"test\"]['label'])"
   ]
  },
  {
   "cell_type": "code",
   "execution_count": null,
   "metadata": {},
   "outputs": [],
   "source": [
    "# Load the previously saved model with ignore_mismatched_sizes=True to handle the size mismatch issue\n",
    "yelp_model_path = \"surya-narayanan/YelpRate_99500\"\n",
    "imdb_model = AutoModelForSequenceClassification.from_pretrained(yelp_model_path, num_labels=7, ignore_mismatched_sizes=True).to(\"cuda:0\")\n",
    "\n",
    "\n",
    "# Initialize LORA configuration\n",
    "imdb_lora_config = LoraConfig(\n",
    "    task_type=\"SEQ_CLS\",\n",
    "    r=1,\n",
    "    lora_alpha=2,\n",
    "    lora_dropout=0.1\n",
    ")\n",
    "\n",
    "# Apply LORA weights initialization using the get_peft_model function\n",
    "imdb_model = get_peft_model(imdb_model, imdb_lora_config)\n",
    "\n",
    "# Update the training arguments for LORA fine-tuning\n",
    "imdb_training_args = TrainingArguments(\n",
    "    output_dir=\"yelp2imdb_lora_rank16_lr_2e-6\",\n",
    "    evaluation_strategy=\"epoch\",\n",
    "    num_train_epochs=20,  # Adjust the number of epochs for LORA fine-tuning\n",
    "    save_strategy=\"steps\",\n",
    "    save_steps = 100,\n",
    "    save_total_limit=5,\n",
    "    learning_rate=2e-6\n",
    ")\n",
    "\n",
    "# Initialize the Trainer for LORA fine-tuning\n",
    "imdb_trainer = Trainer(\n",
    "    model=imdb_model,\n",
    "    args=imdb_training_args,\n",
    "    train_dataset=imdb_small_train_dataset,\n",
    "    eval_dataset=imdb_small_eval_dataset,\n",
    "    compute_metrics=compute_metrics,\n",
    ")\n",
    "\n",
    "# Fine-tune the model on the IMDB dataset\n",
    "# imdb_trainer.train()\n",
    "\n",
    "# Save the final LORA fine-tuned model\n",
    "# imdb_trainer.save_model(\"test_trainer/imdb_reviews\")\n",
    "\n"
   ]
  },
  {
   "cell_type": "code",
   "execution_count": null,
   "metadata": {},
   "outputs": [],
   "source": [
    "import os \n",
    "from peft import PeftConfig\n",
    "\n",
    "yelp_accuracy = []\n",
    "imdb_accuracy = []\n",
    "\n",
    "directory = \"ENTER DIRECTORY HERE\" # Enter the directory where the checkpoints are saved\n",
    "\n",
    "for folder in os.listdir(directory):\n",
    "\n",
    "    if \"checkpoint\" in folder: \n",
    "\n",
    "        peft_model_id = directory + \"/\" + folder\n",
    "\n",
    "        config = PeftConfig.from_pretrained(peft_model_id)\n",
    "        model = AutoModelForSequenceClassification.from_pretrained(config.base_model_name_or_path).to(\"cuda\")\n",
    "        model = PeftModel.from_pretrained(model, peft_model_id, device=\"cuda:0\")\n",
    "        model.eval()\n",
    "        # tokenizer = AutoTokenizer.from_pretrained(config.base_model_name_or_path)\n",
    "\n",
    "        # peft_model_id = \"/home/paperspace/yurts-research/yurts_research_structured/train_llm/lora/test_trainer_imdb/checkpoint-125\"\n",
    "        # model = AutoModelForSequenceClassification.from_pretrained(peft_model_id)\n",
    "\n",
    "        imdb_trainer.model = model\n",
    "        yelp_accuracy.append(imdb_trainer.evaluate(eval_dataset=yelp_small_eval_dataset)['eval_accuracy'] * 100)\n",
    "        imdb_accuracy.append(imdb_trainer.evaluate(eval_dataset=imdb_small_eval_dataset)['eval_accuracy'] * 100)\n",
    "\n"
   ]
  },
  {
   "cell_type": "code",
   "execution_count": null,
   "metadata": {},
   "outputs": [],
   "source": [
    "print(\"yelp\", yelp_accuracy, \"imdb\", imdb_accuracy)"
   ]
  },
  {
   "cell_type": "code",
   "execution_count": null,
   "metadata": {},
   "outputs": [],
   "source": [
    "yelp_accuracy_2 = yelp_accuracy\n",
    "imdb_accuracy_2 = imdb_accuracy\n",
    "\n",
    "yelp_accuracy = yelp_accuracy[:-1]\n",
    "imdb_accuracy = imdb_accuracy[:-1]"
   ]
  },
  {
   "cell_type": "code",
   "execution_count": null,
   "metadata": {},
   "outputs": [],
   "source": [
    "len(yelp_accuracy)"
   ]
  },
  {
   "cell_type": "code",
   "execution_count": null,
   "metadata": {},
   "outputs": [],
   "source": [
    "import matplotlib.pyplot as plt \n",
    "st_ind = 201\n",
    "plt.plot(list(range(1+st_ind, st_ind+len(yelp_accuracy)+1)), yelp_accuracy, label='Yelp reviews', linewidth=3, color=(0, 0.5, 0.5))\n",
    "plt.plot(list(range(1+st_ind, st_ind+len(imdb_accuracy)+1)), imdb_accuracy, label='IMDB reviews', linewidth=3, color='orange')\n",
    "plt.legend()\n",
    "plt.xlabel('Training step', fontsize=20)\n",
    "plt.ylabel('Test accuracy', fontsize=20)\n",
    "plt.xticks(list(range(1+st_ind-1,st_ind+len(yelp_accuracy)+1, 6)), fontsize=15)\n",
    "plt.yticks(fontsize=15)\n",
    "plt.show()"
   ]
  },
  {
   "cell_type": "code",
   "execution_count": null,
   "metadata": {},
   "outputs": [],
   "source": []
  },
  {
   "cell_type": "code",
   "execution_count": null,
   "metadata": {},
   "outputs": [],
   "source": [
    "tot_accuracy = [imdb + yelp for imdb, yelp in zip(imdb_accuracy, yelp_accuracy)]\n",
    "tot_accuracy.index(max(tot_accuracy))"
   ]
  },
  {
   "cell_type": "code",
   "execution_count": null,
   "metadata": {},
   "outputs": [],
   "source": [
    "import pickle\n",
    "pickle.dump([yelp_accuracy, imdb_accuracy], open(\"yelp2imdb_lora_r_16_alpha_32_lr_1e-5.p\", \"wb\"))"
   ]
  },
  {
   "cell_type": "code",
   "execution_count": null,
   "metadata": {},
   "outputs": [],
   "source": [
    "# Evaluate the model on the Yelp dataset\n",
    "print(imdb_trainer.evaluate(eval_dataset=yelp_small_eval_dataset))\n",
    "\n",
    "# Evaluate the model on the IMDB dataset\n",
    "print(imdb_trainer.evaluate(eval_dataset=imdb_small_eval_dataset))"
   ]
  },
  {
   "cell_type": "markdown",
   "metadata": {},
   "source": [
    "#### PLOT weights of networks obtained via FIP and LoRA \n",
    "\n",
    "This is useful to examine how the networks' weights have changed while training the system on Task-2 (IMDB) from the Task-1 (Yelp) trained network. We find that LoRA trained networks are much closer in weight space than the FIP trained network. However, in functional performance - LoRA trained networks perform more poorly (i.e. succumb to Catastrophic forgetting) when compared to FIP trained networks. "
   ]
  },
  {
   "cell_type": "code",
   "execution_count": null,
   "metadata": {},
   "outputs": [],
   "source": [
    "frozen_weights = {}\n",
    "lora_weights = {}\n",
    "\n",
    "fro_norm_cumulative = {}\n",
    "\n",
    "for layer_id in range(12):\n",
    "\n",
    "    for name, parameter in imdb_trainer.model.base_model.model.bert.encoder.layer[layer_id].attention.self.named_parameters():\n",
    "        #if \"lora_A\" in name or \"lora_B\" in name:\n",
    "        # print(name, parameter.shape)\n",
    "\n",
    "        if \"query.weight\" in name or \"value.weight\" in name: \n",
    "            frozen_weights[name] = parameter\n",
    "\n",
    "        if \"lora_A\" in name or \"lora_B\" in name: \n",
    "            lora_weights[name] = parameter\n",
    "\n",
    "    fro_norm_lora = {}\n",
    "    fro_norm_lora['query'] = torch.norm(torch.matmul(lora_weights['query.lora_B.default.weight'], lora_weights['query.lora_A.default.weight']), 'fro').detach().cpu().numpy()\n",
    "    fro_norm_lora['value'] = torch.norm(torch.matmul(lora_weights['value.lora_B.default.weight'], lora_weights['value.lora_A.default.weight']), 'fro').detach().cpu().numpy()\n",
    "\n",
    "    fro_norm_frozen = {}\n",
    "    for key in frozen_weights.keys():\n",
    "        fro_norm_frozen[key]= torch.norm(frozen_weights[key], 'fro').detach().cpu().numpy()\n",
    "\n",
    "\n",
    "    if 'query-lora' in fro_norm_cumulative.keys():\n",
    "        fro_norm_cumulative['query-lora'].append(fro_norm_lora['query'])\n",
    "    else:\n",
    "        fro_norm_cumulative['query-lora'] = [fro_norm_lora['query']]\n",
    "    \n",
    "    if 'value-lora' in fro_norm_cumulative.keys():\n",
    "        fro_norm_cumulative['value-lora'].append(fro_norm_lora['value'])\n",
    "    else:\n",
    "        fro_norm_cumulative['value-lora'] = [fro_norm_lora['value']]\n",
    "    \n",
    "    if 'query.weight' in fro_norm_cumulative.keys():\n",
    "        fro_norm_cumulative['query.weight'].append(fro_norm_frozen['query.weight'])\n",
    "    else:\n",
    "        fro_norm_cumulative['query.weight'] = [fro_norm_frozen['query.weight']]\n",
    "\n",
    "    if 'value.weight' in fro_norm_cumulative.keys():\n",
    "        fro_norm_cumulative['value.weight'].append(fro_norm_frozen['value.weight'])\n",
    "    else:\n",
    "        fro_norm_cumulative['value.weight'] = [fro_norm_frozen['value.weight']]\n"
   ]
  },
  {
   "cell_type": "code",
   "execution_count": null,
   "metadata": {},
   "outputs": [],
   "source": [
    "import matplotlib.pyplot as plt\n",
    "\n",
    "plt.plot([lora/w_o for lora, w_o in zip(fro_norm_cumulative['query-lora'], fro_norm_cumulative['query.weight'])], label='query')\n",
    "plt.plot([lora/w_o for lora, w_o in zip(fro_norm_cumulative['value-lora'], fro_norm_cumulative['value.weight'])], label='value')\n",
    "plt.legend()"
   ]
  },
  {
   "cell_type": "code",
   "execution_count": null,
   "metadata": {},
   "outputs": [],
   "source": [
    "import pickle\n",
    "pickle.dump(fro_norm_cumulative, open('lora-rank-16-alpha-32.p', \"wb\"))\n"
   ]
  },
  {
   "cell_type": "markdown",
   "metadata": {},
   "source": [
    "import pickle\n",
    "pickle.load(fro_norm_'lora-rank-16-alpha-32')"
   ]
  },
  {
   "cell_type": "markdown",
   "metadata": {},
   "source": [
    "#### FIP MODEL LOAD \n"
   ]
  },
  {
   "cell_type": "code",
   "execution_count": null,
   "metadata": {},
   "outputs": [],
   "source": [
    "# Load model directly\n",
    "from transformers import AutoTokenizer, AutoModelForSequenceClassification\n",
    "\n",
    "tokenizer = AutoTokenizer.from_pretrained(\"google-bert/bert-base-uncased\")\n",
    "model = AutoModelForSequenceClassification.from_pretrained(\"surya-narayanan/FIP-yelp2IMDB-checkpoint-320\")\n",
    "\n",
    "\n",
    "fip_trainer = Trainer(\n",
    "    model=model,\n",
    "    # args=imdb_training_args,\n",
    "    train_dataset=imdb_small_train_dataset,\n",
    "    eval_dataset=imdb_small_eval_dataset,\n",
    "    # compute_metrics=compute_metrics,\n",
    ")"
   ]
  },
  {
   "cell_type": "code",
   "execution_count": null,
   "metadata": {},
   "outputs": [],
   "source": [
    "# Evaluate the model on the Yelp dataset\n",
    "print(fip_trainer.evaluate(eval_dataset=yelp_small_eval_dataset))\n",
    "\n",
    "# Evaluate the model on the IMDB dataset\n",
    "print(fip_trainer.evaluate(eval_dataset=imdb_small_eval_dataset))"
   ]
  },
  {
   "cell_type": "markdown",
   "metadata": {},
   "source": [
    "#### FIP evaluation"
   ]
  },
  {
   "cell_type": "code",
   "execution_count": null,
   "metadata": {},
   "outputs": [],
   "source": [
    "yelp_model_path = \"surya-narayanan/YelpRate_99500\"\n",
    "yelp_tuned_model = AutoModelForSequenceClassification.from_pretrained(yelp_model_path, num_labels=7, ignore_mismatched_sizes=True).to(\"cuda:0\")\n"
   ]
  },
  {
   "cell_type": "code",
   "execution_count": null,
   "metadata": {},
   "outputs": [],
   "source": [
    "delta_w = {}\n",
    "w_0 = {}\n",
    "\n",
    "\n",
    "for layer_id in range(12):\n",
    "    for (n_yelp, p_yelp), (n_fip, p_fip) in zip(yelp_tuned_model.named_parameters(), fip_trainer.model.named_parameters()): \n",
    "        if 'layer.{}.attention.self.query.weight'.format(layer_id) in n_yelp: \n",
    "            delta_w_norm = torch.norm(p_fip-p_yelp, 'fro').detach().cpu().numpy()\n",
    "            w_0_norm = torch.norm(p_yelp, 'fro').detach().cpu().numpy()\n",
    "                \n",
    "            if 'query.weight' in delta_w.keys():\n",
    "                delta_w['query.weight'].append(delta_w_norm)\n",
    "                w_0['query.weight'].append(w_0_norm)\n",
    "            else: \n",
    "                delta_w['query.weight'] = [delta_w_norm]\n",
    "                w_0['query.weight'] = [w_0_norm]\n",
    "\n",
    "        if 'layer.{}.attention.self.value.weight'.format(layer_id) in n_yelp: \n",
    "            delta_w_norm = torch.norm(p_fip-p_yelp, 'fro').detach().cpu().numpy()\n",
    "            w_0_norm = torch.norm(p_yelp, 'fro').detach().cpu().numpy()\n",
    "                \n",
    "            if 'value.weight' in delta_w.keys():\n",
    "                delta_w['value.weight'].append(delta_w_norm)\n",
    "                w_0['value.weight'].append(w_0_norm)\n",
    "            else: \n",
    "                delta_w['value.weight'] = [delta_w_norm]\n",
    "                w_0['value.weight'] = [w_0_norm]\n",
    "\n",
    "\n",
    "        "
   ]
  },
  {
   "cell_type": "code",
   "execution_count": null,
   "metadata": {},
   "outputs": [],
   "source": [
    "import matplotlib.pyplot as plt\n",
    "layer_ids = list(range(1,13))\n",
    "plt.plot(layer_ids, [fip_delta_w/w_o for fip_delta_w, w_o in zip(delta_w['query.weight'], w_0['query.weight'])], label='query (attn)-FIP')\n",
    "plt.plot(layer_ids, [fip_delta_w/w_o for fip_delta_w, w_o in zip(delta_w['value.weight'], w_0['value.weight'])], label='value (attn)-FIP')\n",
    "\n",
    "plt.plot(layer_ids, [lora/w_o for lora, w_o in zip(fro_norm_cumulative['query-lora'], fro_norm_cumulative['query.weight'])], label='query (attn)-Lora-rank16')\n",
    "plt.plot(layer_ids, [lora/w_o for lora, w_o in zip(fro_norm_cumulative['value-lora'], fro_norm_cumulative['value.weight'])], label='value (attn)-Lora-rank16')\n",
    "\n",
    "plt.legend()\n",
    "plt.xlabel('Layer #')\n",
    "plt.ylabel('$||\\Delta W||_F$ / $||W_0||_F$')"
   ]
  },
  {
   "cell_type": "code",
   "execution_count": null,
   "metadata": {},
   "outputs": [],
   "source": [
    "delta_w = []\n",
    "for (n_yelp, p_yelp), (n_fip, p_fip) in zip(yelp_tuned_model.named_parameters(), fip_trainer.model.named_parameters()): \n",
    "    # print(n_yelp, p_yelp.shape)\n",
    "\n",
    "    delta_w.append({\"layer\": n_yelp, \"dw\": p_fip-p_yelp, \"rank\": torch.linalg.matrix_rank(p_fip-p_yelp).item() if len(p_yelp.shape)>=2 else -1, \"param_shape\": p_yelp.shape})\n",
    "    "
   ]
  },
  {
   "cell_type": "code",
   "execution_count": null,
   "metadata": {},
   "outputs": [
    {
     "data": {
      "text/plain": [
       "<matplotlib.legend.Legend at 0x7fb41350e170>"
      ]
     },
     "metadata": {},
     "output_type": "display_data"
    },
    {
     "data": {
      "image/png": "[encoded data removed]",
      "text/plain": [
       "<Figure size 640x480 with 1 Axes>"
      ]
     },
     "metadata": {},
     "output_type": "display_data"
    }
   ],
   "source": [
    "import matplotlib.pyplot as plt \n",
    "\n",
    "plt.plot([element[\"rank\"] for element in delta_w if \".weight\" in element['layer']], label='Calculated Rank')\n",
    "plt.plot([min(element[\"param_shape\"]) for element in delta_w if \".weight\" in element['layer']], label='Max Rank')\n",
    "# plt.plot([min(element[\"param_shape\"]) for element in delta_w])\n",
    "plt.ylabel('Matrix Rank')\n",
    "plt.xlabel('BERT weight matrices')\n",
    "plt.legend()"
   ]
  },
  {
   "cell_type": "code",
   "execution_count": null,
   "metadata": {},
   "outputs": [],
   "source": [
    "import torch\n",
    "fro_norm_frozen = {}\n",
    "for key in frozen_weights.keys():\n",
    "    fro_norm_frozen[key]= torch.norm(frozen_weights[key], 'fro')\n"
   ]
  },
  {
   "cell_type": "code",
   "execution_count": null,
   "metadata": {},
   "outputs": [],
   "source": [
    "fro_norm_lora = {}\n",
    "fro_norm_lora['query'] = torch.norm(torch.matmul(lora_weights['query.lora_B.default.weight'], lora_weights['query.lora_A.default.weight']), 'fro')\n",
    "fro_norm_lora['value'] = torch.norm(torch.matmul(lora_weights['value.lora_B.default.weight'], lora_weights['value.lora_A.default.weight']), 'fro')\n"
   ]
  },
  {
   "cell_type": "code",
   "execution_count": null,
   "metadata": {},
   "outputs": [],
   "source": [
    "# Evaluate the model on the Yelp dataset\n",
    "print(imdb_trainer.evaluate(eval_dataset=yelp_small_eval_dataset))\n",
    "\n",
    "# Evaluate the model on the IMDB dataset\n",
    "print(imdb_trainer.evaluate(eval_dataset=imdb_small_eval_dataset))"
   ]
  },
  {
   "cell_type": "markdown",
   "metadata": {},
   "source": [
    "#### Train the BERT model without the LoRA adaptor"
   ]
  },
  {
   "cell_type": "code",
   "execution_count": null,
   "metadata": {},
   "outputs": [],
   "source": [
    "# Remove LORA adapter and reset the model to its initial configuration\n",
    "imdb_model_without_lora = AutoModelForSequenceClassification.from_pretrained(yelp_model_path, num_labels=2)\n",
    "\n",
    "# Initialize the Trainer with the original model without LORA\n",
    "imdb_trainer_without_lora = Trainer(\n",
    "    model=imdb_model_without_lora,\n",
    "    args=imdb_training_args,\n",
    "    train_dataset=imdb_small_train_dataset,\n",
    "    eval_dataset=imdb_small_eval_dataset,\n",
    "    compute_metrics=compute_metrics,\n",
    ")\n",
    "\n",
    "# Evaluate the model on the Yelp dataset without the LORA adapter\n",
    "imdb_trainer_without_lora.evaluate(eval_dataset=yelp_small_eval_dataset)\n"
   ]
  },
  {
   "cell_type": "code",
   "execution_count": null,
   "metadata": {},
   "outputs": [],
   "source": [
    "# Evaluate the Yelp model on the IMDB dataset\n",
    "imdb_trainer_without_lora.evaluate(eval_dataset=imdb_small_eval_dataset)"
   ]
  },
  {
   "cell_type": "code",
   "execution_count": null,
   "metadata": {},
   "outputs": [],
   "source": [
    "# OG Bert\n",
    "bert_model = AutoModelForSequenceClassification.from_pretrained('bert-base-uncased', num_labels=2)\n",
    "\n",
    "bert_trainer = Trainer(\n",
    "    model=bert_model,\n",
    "    args=imdb_training_args, \n",
    "    compute_metrics=compute_metrics,\n",
    ")\n",
    "\n",
    "# Evaluate the out-of-the-box BERT model on the IMDB dataset\n",
    "bert_imdb_results = bert_trainer.evaluate(eval_dataset=imdb_small_eval_dataset)\n",
    "print(\"Out-of-the-box BERT results on IMDB dataset:\", bert_imdb_results)\n",
    "\n",
    "# Evaluate the out-of-the-box BERT model on the Yelp dataset\n",
    "bert_yelp_results = bert_trainer.evaluate(eval_dataset=yelp_small_eval_dataset)\n",
    "print(\"Out-of-the-box BERT results on Yelp dataset:\", bert_yelp_results)\n",
    "\n"
   ]
  },
  {
   "cell_type": "code",
   "execution_count": null,
   "metadata": {},
   "outputs": [],
   "source": [
    "from peft import LoraConfig, PeftModel, get_peft_model, prepare_model_for_int8_training\n",
    "\n",
    "rt_dataset = load_dataset(\"rotten_tomatoes\")\n",
    "\n",
    "def tokenize_function(examples):\n",
    "    return bert_tokenizer(examples[\"text\"], padding=\"max_length\", truncation=True)\n",
    "\n",
    "tokenized_rt_dataset = rt_dataset.map(tokenize_function, batched=True)\n",
    "\n",
    "rt_small_train_dataset = tokenized_rt_dataset[\"train\"].shuffle(seed=42).select(range(1000))\n",
    "rt_small_eval_dataset = tokenized_rt_dataset[\"test\"].shuffle(seed=42).select(range(1000))\n",
    "\n",
    "\n",
    "rt_model = AutoModelForSequenceClassification.from_pretrained(yelp_model_path, num_labels=2, ignore_mismatched_sizes=True)\n",
    "\n",
    "\n",
    "rt_lora_config = LoraConfig(\n",
    "    task_type=\"SEQ_CLS\",\n",
    "    r=4,\n",
    "    lora_alpha=32,\n",
    "    lora_dropout=0.1\n",
    ")\n",
    "\n",
    "\n",
    "rt_model = get_peft_model(rt_model, rt_lora_config)\n",
    "\n",
    "\n",
    "rt_training_args = TrainingArguments(\n",
    "    output_dir=\"test_trainer_rt\",\n",
    "    evaluation_strategy=\"epoch\",\n",
    "    num_train_epochs=5, \n",
    "    save_strategy=\"epoch\",\n",
    "    save_total_limit=1\n",
    ")\n",
    "\n",
    "\n",
    "rt_trainer = Trainer(\n",
    "    model=rt_model,\n",
    "    args=rt_training_args,\n",
    "    train_dataset=rt_small_train_dataset,\n",
    "    eval_dataset=rt_small_eval_dataset,\n",
    "    compute_metrics=compute_metrics,\n",
    ")\n",
    "\n",
    "\n",
    "rt_trainer.train()\n",
    "\n",
    "\n",
    "rt_trainer.save_model(\"test_trainer/rt_reviews\")"
   ]
  },
  {
   "cell_type": "code",
   "execution_count": null,
   "metadata": {},
   "outputs": [],
   "source": [
    "# Evaluate the model on the Yelp dataset\n",
    "# imdb_trainer.evaluate(eval_dataset=yelp_small_eval_dataset)\n",
    "rt_trainer.evaluate(eval_dataset=yelp_small_eval_dataset)"
   ]
  },
  {
   "cell_type": "code",
   "execution_count": null,
   "metadata": {},
   "outputs": [],
   "source": [
    "from peft import LoraConfig, PeftModel, get_peft_model, prepare_model_for_int8_training\n",
    "\n",
    "# Load the financial_phrasebank dataset\n",
    "fpb_dataset = load_dataset(\"financial_phrasebank\", 'sentences_allagree')\n",
    "\n",
    "# Remove neutral labels from the dataset\n",
    "def remove_neutral(examples):\n",
    "    return {'sentence': examples['sentence'], 'label': examples['label']} if examples['label'] != 1 else None\n",
    "\n",
    "fpb_dataset = fpb_dataset.filter(lambda example: example['label'] != 1)\n",
    "\n",
    "def tokenize_function(examples):\n",
    "    return bert_tokenizer(examples[\"sentence\"], padding=\"max_length\", truncation=True)\n",
    "\n",
    "tokenized_fpb_dataset = fpb_dataset.map(tokenize_function, batched=True)\n",
    "\n",
    "fpb_small_train_dataset = tokenized_fpb_dataset[\"train\"].shuffle(seed=42).select(range(1000))\n",
    "fpb_small_eval_dataset = tokenized_fpb_dataset[\"test\"].shuffle(seed=42).select(range(1000))\n",
    "\n",
    "fpb_model = AutoModelForSequenceClassification.from_pretrained(yelp_model_path, num_labels=2, ignore_mismatched_sizes=True)\n",
    "\n",
    "fpb_lora_config = LoraConfig(\n",
    "    task_type=\"SEQ_CLS\",\n",
    "    r=4,\n",
    "    lora_alpha=32,\n",
    "    lora_dropout=0.1\n",
    ")\n",
    "\n",
    "fpb_model = get_peft_model(fpb_model, fpb_lora_config)\n",
    "\n",
    "fpb_training_args = TrainingArguments(\n",
    "    output_dir=\"test_trainer_fpb\",\n",
    "    evaluation_strategy=\"epoch\",\n",
    "    num_train_epochs=5, \n",
    "    save_strategy=\"epoch\",\n",
    "    save_total_limit=1\n",
    ")\n",
    "\n",
    "fpb_trainer = Trainer(\n",
    "    model=fpb_model,\n",
    "    args=fpb_training_args,\n",
    "    train_dataset=fpb_small_train_dataset,\n",
    "    eval_dataset=fpb_small_eval_dataset,\n",
    "    compute_metrics=compute_metrics,\n",
    ")\n",
    "\n",
    "fpb_trainer.train()\n",
    "\n",
    "fpb_trainer.save_model(\"test_trainer/fpb_reviews\")\n"
   ]
  }
 ],
 "metadata": {
  "language_info": {
   "name": "python"
  }
 },
 "nbformat": 4,
 "nbformat_minor": 2
}
